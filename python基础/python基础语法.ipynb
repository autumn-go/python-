{
 "cells": [
  {
   "cell_type": "markdown",
   "metadata": {},
   "source": [
    "### **1. 基本类型和运算符**\n",
    "***"
   ]
  },
  {
   "cell_type": "code",
   "execution_count": 3,
   "metadata": {},
   "outputs": [
    {
     "name": "stdout",
     "output_type": "stream",
     "text": [
      "2 7 20 7.0\n"
     ]
    }
   ],
   "source": [
    "# 定义了一个数字 3\n",
    "3  # => 3\n",
    "\n",
    "# 基本计算\n",
    "print(1 + 1,8 - 1,10 * 2,35 / 5)"
   ]
  },
  {
   "cell_type": "code",
   "execution_count": 5,
   "metadata": {},
   "outputs": [
    {
     "name": "stdout",
     "output_type": "stream",
     "text": [
      "2.5 -3.3333333333333335 3.3333333333333335\n"
     ]
    }
   ],
   "source": [
    "# 当除数和被除数都为整型时，除 这个操作只求整数 \n",
    "# ( python2.x语法。经测试，Python3.x 已经全部当做浮点数处理,还会计算小数)\n",
    "print(5 / 2,10/-3,10/3)\n",
    "#由上面两个结果也可以看出，在Python2中，如结果有小数，则会取最近最小整数"
   ]
  },
  {
   "cell_type": "code",
   "execution_count": 7,
   "metadata": {},
   "outputs": [
    {
     "name": "stdout",
     "output_type": "stream",
     "text": [
      "1 1.0 -2 -2.0\n"
     ]
    }
   ],
   "source": [
    "# 如果我们除数和被除数为浮点型，则Python会自动把结果保存为浮点数\n",
    "2.0  # 这是浮点数\n",
    "11.0 / 4.0  # 这个时候结果就是2.75啦！是不是很神奇？ \n",
    "\n",
    "# 当用‘//’进行计算时，python3不会全部单做浮点数处理.\n",
    "print(5 // 3,5.0 // 3.0,-5 // 3,-5.0 // 3.0)"
   ]
  },
  {
   "cell_type": "code",
   "execution_count": null,
   "metadata": {},
   "outputs": [],
   "source": [
    "from __future__ import division # 注可以在通过 __future__  关键字# 在python2中引入python3 特性\n",
    "    11/4    # => 2.75  ... 标准除法\n",
    "    11//4   # => 2 ... 除后取整\n",
    "    # 求余数操作\n",
    "    7 % 3 # => 1\n",
    "    # 幂操作 2的4次方\n",
    "    2**4 # => 16\n",
    "    # 先乘除，后加减，口号优先\n",
    "    (1 + 3) * 2  # => 8"
   ]
  },
  {
   "cell_type": "code",
   "execution_count": 9,
   "metadata": {},
   "outputs": [
    {
     "name": "stdout",
     "output_type": "stream",
     "text": [
      "0 -5 True False True\n"
     ]
    }
   ],
   "source": [
    "# 布尔值操作\n",
    "# 注：or 和 and 两个关键字是大小写敏感的\n",
    "True and False #=> 返回False\n",
    "False or True #=> 返回True\n",
    "\n",
    "    # 布尔值和整形的关系，除了0外，其他都为真\n",
    "print(0 and 2,-5 or 0,0 == False,2 == True,1 == True)"
   ]
  },
  {
   "cell_type": "code",
   "execution_count": null,
   "metadata": {},
   "outputs": [],
   "source": [
    "#  not 操作\n",
    "not True  # => False\n",
    "not False  # => True\n",
    "\n",
    "#等值比较 “==”，相等返回值为True ，不相等返回False\n",
    "    1 == 1  # => True\n",
    "    2 == 1  # => False\n",
    "\n",
    "# 非等比较“！=”，如果两个数不相等返回True，相等返回Flase\n",
    "    1 != 1  # => False\n",
    "    2 != 1  # => True\n",
    "\n",
    "# 大于/小于 和等于的组合比较\n",
    "    1 < 10  # => True\n",
    "    1 > 10  # => False\n",
    "    2 <= 2  # => True\n",
    "    2 >= 2  # => True\n",
    "\n",
    "# Python可以支持多数值进行组合比较，\n",
    "        #但只要一个等值为False，则结果为False\n",
    "    1 < 2 < 3  # => True\n",
    "    2 < 3 < 2  # => False"
   ]
  },
  {
   "cell_type": "code",
   "execution_count": 10,
   "metadata": {},
   "outputs": [
    {
     "name": "stdout",
     "output_type": "stream",
     "text": [
      "Hello world!\n",
      "Hello world!\n"
     ]
    }
   ],
   "source": [
    "# 可以通过 \" 或者 '来创建字符串\n",
    "\"This is a string.\"\n",
    "'This is also a string.'\n",
    "\n",
    "# 字符串间可以通过 + 号进行相加，是不是简单到爆？\n",
    "print(\"Hello \" + \"world!\")  # => \"Hello world!\"\n",
    "# 甚至不使用'+'号，也可以把字符串进行连接\n",
    "print(\"Hello \" \"world!\")  # => \"Hello world!\""
   ]
  },
  {
   "cell_type": "code",
   "execution_count": 13,
   "metadata": {},
   "outputs": [
    {
     "name": "stdout",
     "output_type": "stream",
     "text": [
      "重要的事情说三遍\n",
      "重要的事情说三遍\n",
      "重要的事情说三遍\n",
      "\n",
      "HelloHelloHello\n"
     ]
    },
    {
     "data": {
      "text/plain": [
       "'T'"
      ]
     },
     "execution_count": 13,
     "metadata": {},
     "output_type": "execute_result"
    }
   ],
   "source": [
    "#可以通过 * 号，对字符串进行复制，比如 ；\n",
    "importantNote = \"重要的事情说三遍\\n\" * 3 \n",
    "print(importantNote)\n",
    "print(\"Hello\" * 3)  # => \"HelloHelloHello\"\n",
    "# 字符串可以在任意位置被打断\n",
    "\"This is a string\"[0]"
   ]
  },
  {
   "cell_type": "code",
   "execution_count": 16,
   "metadata": {},
   "outputs": [
    {
     "name": "stdout",
     "output_type": "stream",
     "text": [
      "The items in the basket are apple and lemon\n"
     ]
    },
    {
     "data": {
      "text/plain": [
       "True"
      ]
     },
     "execution_count": 16,
     "metadata": {},
     "output_type": "execute_result"
    }
   ],
   "source": [
    "#字符串可以用 %连接，并且可以打印出变量值\n",
    "           #（和C/C++ 一样%d 表示整数，%s表示字符串，\n",
    "           #但python可以自己进行判断，我们无需太担心这个问题）\n",
    "x = 'apple'\n",
    "y = 'lemon'\n",
    "z = \"The items in the basket are %s and %s\" % (x,y)\n",
    "print(z)\n",
    "# 一个新的更好的字符串连接方式是通过.format()函数，推荐使用该方式\n",
    "\"{} is a {}\".format(\"This\", \"placeholder\")\n",
    "\"{0} can be {1}\".format(\"strings\", \"formatted\")\n",
    "# You can use keywords if you don't want to count.\n",
    "\"{name} wants to eat {food}\".format(name=\"Bob\", food=\"lasagna\")\n",
    "\n",
    "# None是一个对象,None就是None，它是一个特殊的变量\n",
    "None  # => None\n",
    "\n",
    "# 在和None进行比较时，不要用“==”操作符，用 “is”\n",
    "\"etc\" is None  # => False\n",
    "None is None  # => True"
   ]
  },
  {
   "cell_type": "code",
   "execution_count": null,
   "metadata": {},
   "outputs": [],
   "source": [
    "#“is\"操作符用于对象之间的比较，\n",
    "            #对于底层类型进行比较时\n",
    "    #不建议用“is”，但对于对象之间的比较，用“is”是最合适的\n",
    "    # bool可以用于对任何对象进行判断\n",
    "    # 以下这些值是非真的\n",
    "    #   - None\n",
    "    #   - 各类数值型的0 (e.g., 0, 0L, 0.0, 0j)\n",
    "    #   - 空元组、空列表 (e.g., '', (), [])\n",
    "    #   - 空字典、空集合 (e.g., {}, set())\n",
    "    #   - 其他值请参考：\n",
    "    #     https://docs.python.org/2/reference/datamodel.html#object.__nonzero__\n",
    "    #\n",
    "    # All other values are truthy (using the bool() function on them returns True).\n",
    "bool(0)  # => False\n",
    "bool(\"\")  # => False"
   ]
  },
  {
   "cell_type": "markdown",
   "metadata": {},
   "source": [
    "### **2.变量和集合**\n",
    "***"
   ]
  },
  {
   "cell_type": "code",
   "execution_count": 21,
   "metadata": {},
   "outputs": [
    {
     "name": "stdout",
     "output_type": "stream",
     "text": [
      "I'm Python. Nice to meet you!\n",
      "Enter some data: 1\n",
      "Enter some data: 我\n"
     ]
    },
    {
     "data": {
      "text/plain": [
       "'yahoo!'"
      ]
     },
     "execution_count": 21,
     "metadata": {},
     "output_type": "execute_result"
    }
   ],
   "source": [
    "# 打印 print()\n",
    "print (\"I'm Python. Nice to meet you!\") # => I'm Python. Nice to meet you!\n",
    "\n",
    "# 从控制台中获取输入\n",
    "input_string_var = input(\"Enter some data: \") # 返回字符串类型\n",
    "input_var = input(\"Enter some data: \") # python会判断类型如果是字符串 则输入时要加“”or''\n",
    "# 注意：在 python 3中, input() 由 raw_input() 代替\n",
    "\n",
    "# 在Python中不需要设定变量类型，python会自动根据值进行判断\n",
    "some_var = 5    \n",
    "some_var  # => 5\n",
    "\n",
    "# if 可以作为表达时被使用,下句可以这样理解 “输出‘yahool’如果3大于2的话，不然输出2“\n",
    "\"yahoo!\" if 3 > 2 else 2  # => \"yahoo!\""
   ]
  },
  {
   "cell_type": "markdown",
   "metadata": {},
   "source": [
    "**2.1列表**\n",
    "***"
   ]
  },
  {
   "cell_type": "code",
   "execution_count": 22,
   "metadata": {},
   "outputs": [
    {
     "name": "stdout",
     "output_type": "stream",
     "text": [
      "[1, 2, 4, 3]\n"
     ]
    },
    {
     "ename": "IndexError",
     "evalue": "list index out of range",
     "output_type": "error",
     "traceback": [
      "\u001b[0;31m---------------------------------------------------------------------------\u001b[0m",
      "\u001b[0;31mIndexError\u001b[0m                                Traceback (most recent call last)",
      "\u001b[0;32m<ipython-input-22-61dcc9d45022>\u001b[0m in \u001b[0;36m<module>\u001b[0;34m\u001b[0m\n\u001b[1;32m     26\u001b[0m \u001b[0;31m# 查询的值不可以超出列表个数，否则报错。\u001b[0m\u001b[0;34m\u001b[0m\u001b[0;34m\u001b[0m\u001b[0;34m\u001b[0m\u001b[0m\n\u001b[1;32m     27\u001b[0m \u001b[0;31m# 但是利用insert()插入时可以，超出范围的值会直接被插入到列表最末\u001b[0m\u001b[0;34m\u001b[0m\u001b[0;34m\u001b[0m\u001b[0;34m\u001b[0m\u001b[0m\n\u001b[0;32m---> 28\u001b[0;31m \u001b[0mli\u001b[0m\u001b[0;34m[\u001b[0m\u001b[0;36m4\u001b[0m\u001b[0;34m]\u001b[0m  \u001b[0;31m# Raises an IndexError\u001b[0m\u001b[0;34m\u001b[0m\u001b[0;34m\u001b[0m\u001b[0m\n\u001b[0m",
      "\u001b[0;31mIndexError\u001b[0m: list index out of range"
     ]
    }
   ],
   "source": [
    "# python中的列表定义\n",
    "li = []\n",
    "# 也可以通过初始化时内置列表的值\n",
    "other_li = [4, 5, 6]\n",
    "\n",
    "# append函数可以在列表中插入值\n",
    "li.append(1)    # li is now [1]\n",
    "li.append(2)    # li is now [1, 2]\n",
    "li.append(4)    # li is now [1, 2, 4]\n",
    "li.append(3)    # li is now [1, 2, 4, 3]\n",
    "print(li)\n",
    "# pop函数从列表末移除值\n",
    "li.pop()        # => 3 and li is now [1, 2, 4]\n",
    "# 移除后通过append接回\n",
    "li.append(3)    # li is now [1, 2, 4, 3] again.\n",
    "\n",
    "# 通过[]的方式可以提取任何列表中的任意值\n",
    "           #（前提，index不大于列表总数）\n",
    "li[0]  # => 1\n",
    "# 也可以通过[]下标的方式直接给列表赋值\n",
    "li[0] = 42\n",
    "li[0]  # => 42\n",
    "# 如果[]小标的值为负数，则表示以逆序获取列表中的值\n",
    "li[-1]  # => 3\n",
    "\n",
    "# 查询的值不可以超出列表个数，否则报错。\n",
    "# 但是利用insert()插入时可以，超出范围的值会直接被插入到列表最末\n",
    "li[4]  # Raises an IndexError"
   ]
  },
  {
   "cell_type": "code",
   "execution_count": null,
   "metadata": {},
   "outputs": [],
   "source": [
    "# 可以通过[:],获取列表中指定范围的值\n",
    "# (It's a closed/open range for you mathy types.)\n",
    "# 这是半开取值法，比如li[1:3],取的是列表中index为1、2的两个值，\n",
    "# 该法则适用于以下所有通过[]取值的方式\n",
    "li[1:3]  # => [2, 4]\n",
    "# 如果一边不去值，则表示取所有该边的值。\n",
    "li[2:]  # => [4, 3]\n",
    "li[:3]  # => [1, 2, 4]\n",
    "\n",
    "# [::2]表示选择从[0]开始，步长为2上的值\n",
    "li[::2]   # =>[1, 4]\n",
    "# [::-1]表示反向选择，-可以理解为 反向选择，而1表示步长，步长1则包含了列表中的所有元素\n",
    "li[::-1]   # => [3, 4, 2, 1]\n",
    "# []规则完整版表示方法[开始：结束：步长]\n",
    "# li[start:end:step]\n",
    "\n",
    "#  \"del\"关键字可以直接删除列表中的值\n",
    "del li[2]   # li is now [1, 2, 3]\n",
    "\n",
    "# 可以通过“+”操作符对列表进行操作,注：列表只有 + 操作，而集合（set）有+ 和 -\n",
    "li + other_li   # => [1, 2, 3, 4, 5, 6]\n",
    "\n",
    "\n",
    "# 也可以 \"extend()\"方法对列表进行扩展\n",
    "li.extend(other_li)   # Now li is [1, 2, 3, 4, 5, 6]\n",
    "\n",
    "# Remove 方法和 del 类似，但remove的直接是数值，而不是index\n",
    "li.remove(2)  # li is now [1, 3, 4, 5, 6]\n",
    "li.remove(2)  # 如果remove的值不存在列表中，则会报错\n",
    "\n",
    "# 在指定位置插入数值，上面已经提过，如果index值超过的话，会直接插到列表末\n",
    "li.insert(1, 2)  # li is now [1, 2, 3, 4, 5, 6] again\n",
    "\n",
    "# 获取某个值的index\n",
    "li.index(2)  # => 1\n",
    "li.index(7)  # 如果\n",
    "\n",
    "# \"in\"可以直接查看某个值是否存在于列表中\n",
    "1 in li   # => True\n",
    "\n",
    "# \"len()\"函数可以检测队列的数量\n",
    "len(li)   # => 6"
   ]
  },
  {
   "cell_type": "markdown",
   "metadata": {},
   "source": [
    "**2.2元组**\n",
    "***"
   ]
  },
  {
   "cell_type": "code",
   "execution_count": null,
   "metadata": {},
   "outputs": [],
   "source": [
    "# Tuples(元组）是一个类似数列的数据结构，但是元组是不可修改的\n",
    "tup = (1, 2, 3)\n",
    "tup[0]   # => 1\n",
    "tup[0] = 3  # 一修改就会报错\n",
    "\n",
    "#数列中的方法在元组也可以使用（除了 修改）\n",
    "len(tup)   # => 3\n",
    "tup + (4, 5, 6)   # => (1, 2, 3, 4, 5, 6)\n",
    "tup[:2]   # => (1, 2)\n",
    "2 in tup   # => True\n",
    "\n",
    "# 可以一次性赋值几个变量\n",
    "a, b, c = (1, 2, 3)  # a 为1，b为2，c为3\n",
    "d, e, f = 4, 5, 6      # 元组赋值也可以不用括号\n",
    "# 同样元组不用括号也同样可以创建\n",
    "g = 4, 5, 6          # => (4, 5, 6)\n",
    "# Python中的数据交换十分简单：只要在赋值时互调位置即可\n",
    "e, d = d, e  # d is now 5 and e is now 4"
   ]
  },
  {
   "cell_type": "markdown",
   "metadata": {},
   "source": [
    "**2.3字典**\n",
    "***"
   ]
  },
  {
   "cell_type": "code",
   "execution_count": 23,
   "metadata": {},
   "outputs": [
    {
     "name": "stdout",
     "output_type": "stream",
     "text": [
      "dict_keys(['one', 'two', 'three'])\n",
      "dict_values([1, 2, 3])\n"
     ]
    }
   ],
   "source": [
    "# Python中的字典定义\n",
    "empty_dict = {}\n",
    "# 也可以通过定义时赋值给字典\n",
    "filled_dict = {\"one\": 1, \"two\": 2, \"three\": 3}\n",
    "\n",
    "# 可以通过[]的key方式查询字典中的值\n",
    "filled_dict[\"one\"]   # => 1\n",
    "\n",
    "# 可以通过\"keys()\"方法获取字典中的所有key值\n",
    "print(filled_dict.keys())   # => [\"three\", \"two\", \"one\"]\n",
    "# Note - 返回的keys并不一定按照顺序排列的.\n",
    "# 所以测试结果可能和上述结果不一致\n",
    "\n",
    "# 通过 \"values()\"的方式可以获取字典中所有值，\n",
    "#同样他们返回的结果也不一定按照顺序排列\n",
    "print(filled_dict.values())   # => [3, 2, 1]"
   ]
  },
  {
   "cell_type": "code",
   "execution_count": null,
   "metadata": {},
   "outputs": [],
   "source": [
    "# 可以通过 \"in\"方式获取查询某个键值是否存在字典中，但是数值不可以\n",
    "\"one\" in filled_dict   # => True\n",
    "1 in filled_dict   # => False\n",
    "\n",
    "# 查找不存在的key值时，Python会报错\n",
    "filled_dict[\"four\"]   # KeyError\n",
    "\n",
    "#用 \"get()\" 方法可以避免键值错误的产生\n",
    "filled_dict.get(\"one\")   # => 1\n",
    "filled_dict.get(\"four\")   # => None\n",
    "# 当键值不存在的时候，get方法可以通过返回默认值，\n",
    "# 但是并没有对值字典进行赋值\n",
    "filled_dict.get(\"one\", 4)   # => 1\n",
    "filled_dict.get(\"four\", 4)   # => 4\n",
    "\n",
    "# 字典中设置值的方式和列表类似，通过[]方式可以设置\n",
    "filled_dict[\"four\"] = 4  # now, filled_dict[\"four\"] => 4\n",
    "\n",
    "# \"setdefault()\" 可以设置字典中的值\n",
    "# 但是注意：只有当该键值之前未存在的时候，setdefault（）函数才生效\n",
    "filled_dict.setdefault(\"five\", 5)  # filled_dict[\"five\"] is set to 5\n",
    "filled_dict.setdefault(\"five\", 6)  # filled_dict[\"five\"] is still 5"
   ]
  },
  {
   "cell_type": "markdown",
   "metadata": {},
   "source": [
    "**2.4集合**\n",
    "***"
   ]
  },
  {
   "cell_type": "code",
   "execution_count": null,
   "metadata": {},
   "outputs": [],
   "source": [
    "empty_set = set()\n",
    "    # 初始化set的方式可以通过 set()来实现\n",
    "    some_set = set([1, 2, 2, 3, 4])   # some_set is now set([1, 2, 3, 4])\n",
    "\n",
    "    # 集合的排列是无序的！集合的排列是无序的！集合的排列是无序的！\n",
    "    another_set = set([4, 3, 2, 2, 1])  # another_set is now set([1, 2, 3, 4])\n",
    "\n",
    "    # Python2.7以后，{}可以用于被定义集合\n",
    "    filled_set = {1, 2, 2, 3, 4}   # => {1, 2, 3, 4}\n",
    "\n",
    "    # Add方法可用于增加集合成员\n",
    "    filled_set.add(5)   # filled_set is now {1, 2, 3, 4, 5}\n",
    "\n",
    "    #集合可通过 &操作符取交集\n",
    "    other_set = {3, 4, 5, 6}\n",
    "    filled_set & other_set   # => {3, 4, 5}\n",
    "\n",
    "    # 通过|操作符取并集\n",
    "    filled_set | other_set   # => {1, 2, 3, 4, 5, 6}\n",
    "\n",
    "    # 通过 - 操作符取差集\n",
    "    {1, 2, 3, 4} - {2, 3, 5}   # => {1, 4}\n",
    "\n",
    "    # 通过 ^ 操作符取非集\n",
    "    {1, 2, 3, 4} ^ {2, 3, 5}  # => {1, 4, 5}\n",
    "\n",
    "    # 通过 >= 判断左边集合是否是右边集合的超集\n",
    "    {1, 2} >= {1, 2, 3} # => False\n",
    "\n",
    "    # 通过 <= 判断左边集合是否右边集合的子集\n",
    "    {1, 2} <= {1, 2, 3} # => True\n",
    "\n",
    "    # 通过 in 可以判断元素是否在集合中\n",
    "    2 in filled_set   # => True\n",
    "    10 in filled_set   # => False"
   ]
  },
  {
   "cell_type": "markdown",
   "metadata": {},
   "source": [
    "### **3.逻辑运算符**"
   ]
  },
  {
   "cell_type": "code",
   "execution_count": 25,
   "metadata": {},
   "outputs": [
    {
     "name": "stdout",
     "output_type": "stream",
     "text": [
      "some_var is smaller than 10.\n",
      "dog is a mammal\n",
      "cat is a mammal\n",
      "mouse is a mammal\n",
      "0\n",
      "1\n",
      "2\n",
      "3\n",
      "4\n",
      "5\n",
      "6\n",
      "7\n",
      "0\n",
      "1\n",
      "2\n",
      "3\n"
     ]
    }
   ],
   "source": [
    "# 创建一个变量\n",
    "some_var = 5\n",
    "\n",
    "# 通过if进行逻辑判断\n",
    "if some_var > 10:\n",
    "    print(\"some_var is totally bigger than 10.\")\n",
    "elif some_var < 10: # This elif clause is optional.\n",
    "    print(\"some_var is smaller than 10.\")\n",
    "else:          # This is optional too.\n",
    "    print(\"some_var is indeed 10.\")\n",
    "\n",
    "\n",
    "    \"\"\"\n",
    "        通过for...in...进行循环打印：\n",
    "        dog is a mammal\n",
    "        cat is a mammal\n",
    "        mouse is a mammal\n",
    "    \"\"\"\n",
    "for animal in [\"dog\", \"cat\", \"mouse\"]:\n",
    "    # You can use {0} to interpolate formatted strings. (See above.)\n",
    "    print(\"{0} is a mammal\".format(animal))\n",
    "\n",
    "    \"\"\"\n",
    "    通过\"range()\" 方式，控制for的循环次数\n",
    "    prints:\n",
    "        0\n",
    "        1\n",
    "        2\n",
    "        3\n",
    "    \"\"\"\n",
    "for i in range(4):\n",
    "    print(i)\n",
    "\n",
    "    \"\"\"\n",
    "    \"range(lower, upper)\" 返回 lower 到 upper的值,\n",
    "     注意：range左边必须小于右边参数\n",
    "    prints:\n",
    "        4\n",
    "        5\n",
    "        6\n",
    "        7\n",
    "    \"\"\"\n",
    "for i in range(4, 8):\n",
    "    print(i)\n",
    "\n",
    "    \"\"\"\n",
    "    while 循环\n",
    "    prints:\n",
    "        0\n",
    "        1\n",
    "        2\n",
    "        3\n",
    "    \"\"\"\n",
    "x = 0\n",
    "while x < 4:\n",
    "    print(x)\n",
    "    x += 1  # Shorthand for x = x + 1"
   ]
  },
  {
   "cell_type": "code",
   "execution_count": null,
   "metadata": {},
   "outputs": [],
   "source": [
    "    # Python支持 try/except 语法\n",
    "\n",
    "    # Python2.6以上的版本，支持try...except...:\n",
    "try:\n",
    "    # raise显示地引发异常。一旦执行了raise语句，raise后面的语句将不能执行。\n",
    "    raise IndexError(\"This is an index error\")\n",
    "except IndexError as e:\n",
    "    pass    # pass 空语句，跳过处理\n",
    "except (TypeError, NameError):\n",
    "    pass    # python 支持同时检测多个错误\n",
    "else:   # Python必须要处理所有情况，这里是其他未定义的情况\n",
    "    print \"All good!\"   \n",
    "finally: #  finally无论有没有异常都会执行\n",
    "    print \"We can clean up resources here\"\n",
    "\n",
    "#通过with函数，可以替代try....except...函数  [with详解](http://www.ibm.com/developerworks/cn/opensource/os-cn-pythonwith/)\n",
    "with open(\"myfile.txt\") as f:\n",
    "    for line in f:\n",
    "        print line"
   ]
  },
  {
   "cell_type": "markdown",
   "metadata": {},
   "source": [
    "### **4. Functions**\n",
    "***"
   ]
  },
  {
   "cell_type": "code",
   "execution_count": null,
   "metadata": {},
   "outputs": [],
   "source": [
    "# def 关键字定义函数\n",
    "def add(x, y):\n",
    "    print(\"x is {0} and y is {1}\".format(x, y))\n",
    "    return(x + y)    #可以直接return结果\n",
    "\n",
    "# 函数调用参数\n",
    "add(5, 6)   # => prints out \"x is 5 and y is 6\" and returns 11\n",
    "\n",
    "# Python支持参数互换，只需要在调用函数时加上形参\n",
    "add(y=6, x=5)   # Keyword arguments can arrive in any order.\n",
    "\n",
    "\n",
    "# Python函数支持可变参数\n",
    "#  在定义函数时通过*号表示可变长参数\n",
    "def varargs(*args):\n",
    "    return args\n",
    "\n",
    "varargs(1, 2, 3)   # => (1, 2, 3)\n",
    "\n",
    "# 可以通过**的方式定义Key可变长参数查找字典中的关键词\n",
    "\n",
    "def keyword_args(**kwargs):\n",
    "    return kwargs\n",
    "\n",
    "# 当函数参数是**类型的时候，Python可以通过该函数定义字典\n",
    "keyword_args(big=\"foot\", loch=\"ness\")   # => {\"big\": \"foot\", \"loch\": \"ness\"}\n",
    "\n",
    "\n",
    "#同时支持函数和字典类型参数，具体事例如下：\n",
    "def all_the_args(*args, **kwargs):\n",
    "    print(args)\n",
    "    print(kwargs)\n",
    "    \n",
    "all_the_args(1, 2, a=3, b=4) \n",
    "     \n",
    "\n",
    "# 在调用函数时，可以同时赋值，文字难以表达，例子如下：\n",
    "args = (1, 2, 3, 4)\n",
    "kwargs = {\"a\": 3, \"b\": 4}\n",
    "all_the_args(*args)   # equivalent to foo(1, 2, 3, 4)\n",
    "all_the_args(**kwargs)   # equivalent to foo(a=3, b=4)\n",
    "all_the_args(*args, **kwargs)   # equivalent to foo(1, 2, 3, 4, a=3, b=4)\n",
    "\n",
    "# 在函数中也可以通过单独处理* 或者 **的方式，增加函数的健壮性\n",
    "def pass_all_the_args(*args, **kwargs):\n",
    "    all_the_args(*args, **kwargs)\n",
    "    print(varargs(*args))\n",
    "    print(keyword_args(**kwargs))\n",
    "\n",
    "# 全局变量 X\n",
    "x = 5\n",
    "\n",
    "def set_x(num):\n",
    "    # 当在函数里面改变变量时，如果没有加gloabl关键字，则改变的是局部变量\n",
    "    x = num # => 43\n",
    "    print(x) # => 43\n",
    "\n",
    "def set_global_x(num):\n",
    "    global x\n",
    "    print(x) # => 5\n",
    "    x = num # 加了global关键字后，即可在函数内操作全局变量\n",
    "    print(x) # => 6\n",
    "\n",
    "set_x(43)\n",
    "set_global_x(6)\n",
    "\n",
    "# 返回函数指针方式定义函数/*换个说法，匿名函数*/\n",
    "def create_adder(x):\n",
    "    def adder(y):\n",
    "        return x + y\n",
    "    return adder\n",
    "\n",
    "add_10 = create_adder(10)\n",
    "add_10(3)   # => 13"
   ]
  },
  {
   "cell_type": "code",
   "execution_count": null,
   "metadata": {},
   "outputs": [],
   "source": [
    "# Lambda 关键字定义的匿名函数\n",
    "(lambda x: x > 2)(3)   # => True \n",
    "(lambda x, y: x ** 2 + y ** 2)(2, 1) # => 5\n",
    "\n",
    "# map方式也可以调用函数并传入参数\n",
    "map(add_10, [1, 2, 3])   # => [11, 12, 13]\n",
    "map(max, [1, 2, 3], [4, 2, 1])   # => [4, 2, 3]\n",
    "\n",
    "filter(lambda x: x > 5, [3, 4, 5, 6, 7])   # => [6, 7]\n",
    "\n",
    "# 可以通过这两种方式结合调用，下面的函数解析：\n",
    "#add_10(i) 是映射了for...in...函数的返回值，返回值作为参数传进。\n",
    "[add_10(i) for i in [1, 2, 3]]  # => [11, 12, 13]\n",
    "[x for x in [3, 4, 5, 6, 7] if x > 5]   # => [6, 7]"
   ]
  },
  {
   "cell_type": "markdown",
   "metadata": {},
   "source": [
    "### **5.python中的类**\n",
    "***"
   ]
  },
  {
   "cell_type": "code",
   "execution_count": 35,
   "metadata": {},
   "outputs": [
    {
     "name": "stdout",
     "output_type": "stream",
     "text": [
      "Ian: hi\n",
      "Joel: hello\n"
     ]
    },
    {
     "ename": "AttributeError",
     "evalue": "'Human' object has no attribute '_age'",
     "output_type": "error",
     "traceback": [
      "\u001b[0;31m---------------------------------------------------------------------------\u001b[0m",
      "\u001b[0;31mAttributeError\u001b[0m                            Traceback (most recent call last)",
      "\u001b[0;32m<ipython-input-35-10a1078f3a8f>\u001b[0m in \u001b[0;36m<module>\u001b[0;34m\u001b[0m\n\u001b[1;32m     89\u001b[0m     \u001b[0;31m# 删除age\u001b[0m\u001b[0;34m\u001b[0m\u001b[0;34m\u001b[0m\u001b[0;34m\u001b[0m\u001b[0m\n\u001b[1;32m     90\u001b[0m \u001b[0;32mdel\u001b[0m \u001b[0mi\u001b[0m\u001b[0;34m.\u001b[0m\u001b[0mage\u001b[0m\u001b[0;34m\u001b[0m\u001b[0;34m\u001b[0m\u001b[0m\n\u001b[0;32m---> 91\u001b[0;31m \u001b[0mi\u001b[0m\u001b[0;34m.\u001b[0m\u001b[0mage\u001b[0m  \u001b[0;31m# => raises an AttributeError\u001b[0m\u001b[0;34m\u001b[0m\u001b[0;34m\u001b[0m\u001b[0m\n\u001b[0m",
      "\u001b[0;32m<ipython-input-35-10a1078f3a8f>\u001b[0m in \u001b[0;36mage\u001b[0;34m(self)\u001b[0m\n\u001b[1;32m     50\u001b[0m     \u001b[0;34m@\u001b[0m\u001b[0mproperty\u001b[0m\u001b[0;34m\u001b[0m\u001b[0;34m\u001b[0m\u001b[0m\n\u001b[1;32m     51\u001b[0m     \u001b[0;32mdef\u001b[0m \u001b[0mage\u001b[0m\u001b[0;34m(\u001b[0m\u001b[0mself\u001b[0m\u001b[0;34m)\u001b[0m\u001b[0;34m:\u001b[0m\u001b[0;34m\u001b[0m\u001b[0;34m\u001b[0m\u001b[0m\n\u001b[0;32m---> 52\u001b[0;31m         \u001b[0;32mreturn\u001b[0m \u001b[0mself\u001b[0m\u001b[0;34m.\u001b[0m\u001b[0m_age\u001b[0m\u001b[0;34m\u001b[0m\u001b[0;34m\u001b[0m\u001b[0m\n\u001b[0m\u001b[1;32m     53\u001b[0m \u001b[0;34m\u001b[0m\u001b[0m\n\u001b[1;32m     54\u001b[0m         \u001b[0;31m# This allows the property to be set\u001b[0m\u001b[0;34m\u001b[0m\u001b[0;34m\u001b[0m\u001b[0;34m\u001b[0m\u001b[0m\n",
      "\u001b[0;31mAttributeError\u001b[0m: 'Human' object has no attribute '_age'"
     ]
    }
   ],
   "source": [
    "# 下面代码是定义了一个Human类，继承自object类\n",
    "# Python类可以继承自多个类，如class Human(object,orangOutang)\n",
    "class Human(object):\n",
    "    # 类变量\n",
    "    species = \"H. sapiens\"#类接口\n",
    "    __species = \"Other.sapiens\" #内部结构，无法被外部直接访问\n",
    "    \n",
    "        # __init__(),初始化函数，python中在对类进行处理时，会先处理以下函数，\n",
    "        #其实就是系统默认定义了接口，而这个接口是开放给用户去实现的，具体如下：   \n",
    "        #__init__  构造函数，在生成对象时调用\n",
    "        # __del__   析构函数，释放对象时使用\n",
    "        #__repr__ 打印，转换\n",
    "        #__setitem__按照索引赋值\n",
    "        #__getitem__按照索引获取值\n",
    "        #__len__获得长度\n",
    "        #__cmp__比较运算\n",
    "        #__call__函数调用\n",
    "        #__add__加运算\n",
    "        #__sub__减运算\n",
    "        #__mul__乘运算\n",
    "        #__div__除运算\n",
    "        #__mod__求余运算\n",
    "        #__pow__称方\n",
    "\n",
    "    def __init__(self, name):\n",
    "    #声明类中的属性，并初始化，在初始化的时候同时\n",
    "    #就是定义了变量类型\n",
    "        self.name = name\n",
    "        self.age = 0\n",
    "\n",
    "# 在类中所有函数都必须把self作为第一个参数\n",
    "#（下面定义的类方法和静态方法除外）\n",
    "    def say(self, msg):\n",
    "        return \"{0}: {1}\".format(self.name, msg)\n",
    "\n",
    "# 类方法\n",
    "    @classmethod\n",
    "    def get_species(cls):\n",
    "        return cls.species\n",
    "\n",
    "# 静态方法，\n",
    "    @staticmethod\n",
    "    def grunt():\n",
    "        return \"*grunt*\"\n",
    "\n",
    "        # A property is just like a getter.\n",
    "        # It turns the method age() into an read-only attribute\n",
    "        # of the same name.\n",
    "        #property属性，相当于getter\n",
    "    @property\n",
    "    def age(self):\n",
    "        return self._age\n",
    "\n",
    "        # This allows the property to be set\n",
    "    @age.setter\n",
    "    def age(self, age):\n",
    "        self._age = age\n",
    "\n",
    "        # This allows the property to be deleted\n",
    "    @age.deleter\n",
    "    def age(self):\n",
    "        del self._age\n",
    "\n",
    "\n",
    "    #类实例化\n",
    "i = Human(name=\"Ian\")\n",
    "print(i.say(\"hi\"))    # prints out \"Ian: hi\"\n",
    "\n",
    "j = Human(\"Joel\")\n",
    "print(j.say(\"hello\"))  # prints out \"Joel: hello\"\n",
    "\n",
    "    #调用实例方法用\".\"\n",
    "i.get_species()   # => \"H. sapiens\"\n",
    "\n",
    "    # 改变类变量\n",
    "Human.species = \"H. neanderthalensis\"\n",
    "i.get_species()   # => \"H. neanderthalensis\"\n",
    "j.get_species()   # => \"H. neanderthalensis\"\n",
    "\n",
    "    # 调用静态方法\n",
    "Human.grunt()   # => \"*grunt*\"\n",
    "\n",
    "    # 给age赋值\n",
    "i.age = 42\n",
    "\n",
    "    # 获取age值\n",
    "i.age # => 42\n",
    "\n",
    "    # 删除age\n",
    "del i.age\n",
    "i.age  # => raises an AttributeError"
   ]
  },
  {
   "cell_type": "markdown",
   "metadata": {},
   "source": [
    "### **6. Python的模块（库）**\n",
    "***"
   ]
  },
  {
   "cell_type": "code",
   "execution_count": null,
   "metadata": {},
   "outputs": [],
   "source": [
    "# Python中的一个*.py文件就是一个模块\n",
    "import math\n",
    "print math.sqrt(16)  # => 4\n",
    "\n",
    "# 可以只引入模块中的某些类/方法\n",
    "from math import ceil, floor\n",
    "print ceil(3.7)  # => 4.0\n",
    "print floor(3.7)   # => 3.0\n",
    "\n",
    "# 也可以通过*引入全部方法\n",
    "# Warning: this is not recommended\n",
    "from math import *\n",
    "\n",
    "#math库的缩写可以为m\n",
    "math.sqrt(16) == m.sqrt(16)   # => True\n",
    "# 可以直接引入sqrt库\n",
    "from math import sqrt\n",
    "math.sqrt == m.sqrt == sqrt  # => True\n",
    "\n",
    "#python的库就只是文件\n",
    "import math\n",
    "dir(math)\n",
    "\n",
    "# If you have a Python script named math.py in the same\n",
    "# folder as your current script, the file math.py will \n",
    "# be loaded instead of the built-in Python module. \n",
    "# This happens because the local folder has priority\n",
    "# over Python's built-in libraries. \n",
    "\n",
    "#如果你在当前目录下有一个Python脚本的名字也叫math.py\n",
    "#当前目录下的math.py会替换掉内置的Python模块\n",
    "#因为在Python中当前目录的优先级会高于内置模块的优先级"
   ]
  },
  {
   "cell_type": "markdown",
   "metadata": {},
   "source": [
    "### **7. Python中的高级特性（生成器、装饰器:wraps）**\n",
    "***"
   ]
  },
  {
   "cell_type": "code",
   "execution_count": null,
   "metadata": {},
   "outputs": [],
   "source": [
    "# Generators ，生成器函数在Python中与迭代器协议的概念联系在一起。\n",
    "    # 简而言之，包含yield语句的函数会被特地编译成生成器。\n",
    "    # 当函数被调用时，他们返回一个生成器对象，这个对象支持迭代器接口。函数        \n",
    "    #也许会有个return语句，但它的作用是用来yield产生值的。\n",
    "for i in iterable:\n",
    "    yield i + i\n",
    "\n",
    "xrange_ = xrange(1, 900000000)\n",
    "\n",
    "for i in double_numbers(xrange_):\n",
    "    print i\n",
    "    if i >= 30:\n",
    "        break\n",
    "\n",
    "\n",
    "\n",
    "# 装饰器wraps，wraps可以包装\n",
    "# Beg will call say. If say_please is True then it will change the returned\n",
    "# message\n",
    "from functools import wraps\n",
    "\n",
    "def beg(target_function):\n",
    "    @wraps(target_function)\n",
    "    def wrapper(*args, **kwargs):\n",
    "        msg, say_please = target_function(*args, **kwargs)\n",
    "        if say_please:\n",
    "            return \"{} {}\".format(msg, \"Please! I am poor :(\")\n",
    "        return msg\n",
    "\n",
    "    return wrapper\n",
    "\n",
    "@beg\n",
    "def say(say_please=False):\n",
    "    msg = \"Can you buy me a beer?\"\n",
    "    return msg, say_please\n",
    "\n",
    "print say()  # Can you buy me a beer?\n",
    "print say(say_please=True)  # Can you buy me a beer? Please! I am poor :"
   ]
  }
 ],
 "metadata": {
  "kernelspec": {
   "display_name": "Python 3",
   "language": "python",
   "name": "python3"
  },
  "language_info": {
   "codemirror_mode": {
    "name": "ipython",
    "version": 3
   },
   "file_extension": ".py",
   "mimetype": "text/x-python",
   "name": "python",
   "nbconvert_exporter": "python",
   "pygments_lexer": "ipython3",
   "version": "3.7.4"
  }
 },
 "nbformat": 4,
 "nbformat_minor": 2
}
